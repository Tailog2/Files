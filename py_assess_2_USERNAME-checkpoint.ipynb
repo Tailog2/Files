{
 "cells": [
  {
   "cell_type": "markdown",
   "metadata": {},
   "source": [
    "<center style=\"font-size: 26px\"> <b>Проверка уровня знаний Python</b></center>"
   ]
  },
  {
   "cell_type": "markdown",
   "metadata": {},
   "source": [
    "### Проверка построена следующим образом:\n",
    "\n",
    "- К каждому блоку приложены практические задания по теме блока\n",
    "- К каждому практическому заданию приложен либо рабочий файл, либо дано вводное условие\n",
    "- Для успешного прохождения проверки требуется правильно ответить на 10/15 вопросов\n",
    "- Корректным ответом на вопрос считается любой работоспособный код, позволяющий достичь корректного результата (и использующий проверяемый синтаксис, если это указано в условии задания)"
   ]
  },
  {
   "cell_type": "markdown",
   "metadata": {},
   "source": [
    "<center style=\"background-color: #23B04A; color: white; font-size: 16px\"><b>NumPy</b></center>"
   ]
  },
  {
   "cell_type": "markdown",
   "metadata": {},
   "source": [
    "`Numpy` - это библиотека Python для вычислительно эффективных операций с многомерными массивами, предназначенная в основном для научных вычислений."
   ]
  },
  {
   "cell_type": "markdown",
   "metadata": {},
   "source": [
    "### Технический код:\n",
    "Данная часть нужна исключительно для корректной работы данной тетради. Исполните блок (Shift + Enter), не вдаваясь в суть написанного."
   ]
  },
  {
   "cell_type": "code",
   "execution_count": 2,
   "metadata": {},
   "outputs": [],
   "source": [
    "# обеспечиваем совместимость с Python 2 и 3\n",
    "from __future__ import (absolute_import, division, print_function, unicode_literals)\n",
    "\n",
    "# отключаем предупреждения дистрибутива Anaconda\n",
    "import warnings\n",
    "warnings.simplefilter('ignore')"
   ]
  },
  {
   "cell_type": "markdown",
   "metadata": {},
   "source": [
    "### Практические задания:"
   ]
  },
  {
   "cell_type": "code",
   "execution_count": 18,
   "metadata": {},
   "outputs": [],
   "source": [
    "# Импортируем библиотеки NumPy и Pandas\n",
    "import numpy as np\n",
    "import pandas as pd"
   ]
  },
  {
   "cell_type": "markdown",
   "metadata": {},
   "source": [
    "#### 1. Создание массивов\n",
    "Создайте и перемножьте одномерный и двумерный массивы при помощи библиотеки NumPy"
   ]
  },
  {
   "cell_type": "code",
   "execution_count": 4,
   "metadata": {},
   "outputs": [],
   "source": [
    "a = np.array([[5, 1],\n",
    "              [3, 2],\n",
    "              [4, 2]])\n",
    "b = np.array([1, 2])\n",
    "c = a.dot(b)"
   ]
  },
  {
   "cell_type": "markdown",
   "metadata": {},
   "source": [
    "#### 2. Методы создания массивов\n",
    "Создайте один и тот же массив 3-мя разными способами при помощи библиотеки NumPy"
   ]
  },
  {
   "cell_type": "code",
   "execution_count": 5,
   "metadata": {},
   "outputs": [],
   "source": [
    "# Можно создать одномерный матрицу и переделать её в двухмерную\n",
    "a = np.matrix([[1, 2, 3, 4]], dtype=int)\n",
    "a = a.reshape(2, 2)\n",
    "\n",
    "# Можно создать стандарный класс Python - tuple\n",
    "# и затем использовать метод asarray для переформатирования его в класс array библиотеки numpy\n",
    "b = ([1, 2], [3, 4])\n",
    "b = np.asarray(b, dtype=int)\n",
    "\n",
    "# Также можно создать пустой массив требуемого размера при помощи метода empty\n",
    "# и затем присвоить каждому элементу в массиве значение, присвоить значение можно вручную или в циклах\n",
    "c = np.empty(shape=[2, 2], dtype=int)\n",
    "c[0][0] = 1\n",
    "c[0][1] = 2\n",
    "c[1][0] = 3\n",
    "c[1][1] = 4\n",
    "\n",
    "# Также для созданя определенных матриц можно использовать такие методы как random, zeros, ones  и т.д."
   ]
  },
  {
   "cell_type": "markdown",
   "metadata": {},
   "source": [
    "#### 3. Индексирование массивов\n",
    "\n",
    "Напишите код, производящий указанные в комментариях операции с массивами"
   ]
  },
  {
   "cell_type": "code",
   "execution_count": 6,
   "metadata": {},
   "outputs": [],
   "source": [
    "a = np.diag(np.arange(3))  # Выделите значение = 1\n",
    "valueOne = a[1][1] # Для получения значения\n",
    "indexOne = np.where(a == 1) # Для получения индекса\n",
    "\n",
    "b = np.random.rand(5, 5)  # Выделите первую строку\n",
    "b[0]\n",
    "\n",
    "с = np.arange(10) # Присвойте значение = 25 элементам массива с 3 по 6 включительно\n",
    "c[2:6] = 25"
   ]
  },
  {
   "cell_type": "markdown",
   "metadata": {},
   "source": [
    "#### 4. Индексирование масками\n",
    "\n",
    "Выберите из предоставленного массива значения, делящиеся на 3 без остатка, и присвойте им значение = 10  "
   ]
  },
  {
   "cell_type": "code",
   "execution_count": 7,
   "metadata": {},
   "outputs": [],
   "source": [
    "np.random.seed(3)\n",
    "a = np.random.random_integers(0, 20, 15)\n",
    "\n",
    "a[(a % 3) == 0] = 10"
   ]
  },
  {
   "cell_type": "markdown",
   "metadata": {},
   "source": [
    "#### 5. Меры центральной тенденции и меры вариации\n",
    "\n",
    "Напишите код, находящий указанные в комментариях значения"
   ]
  },
  {
   "cell_type": "code",
   "execution_count": 8,
   "metadata": {},
   "outputs": [],
   "source": [
    "a = np.linspace(0, 20, 5)  # Найти среднее арифметическое массива\n",
    "average = np.median(a)\n",
    "\n",
    "b = np.linspace(0, 30, 10)  # Найти медианное значение массива\n",
    "median = np.median(b)\n",
    "\n",
    "c = np.linspace(0, 10, 10)  # Найти кумулятивную сумму элементов массива\n",
    "cumSum = np.cumsum(c)"
   ]
  },
  {
   "cell_type": "markdown",
   "metadata": {},
   "source": [
    "<center style=\"background-color: #23B04A; color: white; font-size: 16px\"><b>Pandas</b></center>"
   ]
  },
  {
   "cell_type": "markdown",
   "metadata": {},
   "source": [
    "`Pandas` - это библиотека Python, предоставляющая широкие возможности для анализа данных. С ее помощью очень удобно загружать, обрабатывать и анализировать табличные данные с помощью SQL-подобных запросов. В связке с библиотеками Matplotlib и Seaborn появляется возможность удобного визуального анализа табличных данных (данные библиотеки включены в следующий уровень assessment'а)."
   ]
  },
  {
   "cell_type": "markdown",
   "metadata": {},
   "source": [
    "#### 6. Чтение и первичная информация о файле\n",
    "Выведите первые 15 значений (строк) датафрейма, полученного из файла 'adult.data' "
   ]
  },
  {
   "cell_type": "code",
   "execution_count": 20,
   "metadata": {
    "scrolled": true
   },
   "outputs": [],
   "source": [
    "# читаем файл и загоняем в датафрейм\n",
    "df = pd.read_csv('https://archive.ics.uci.edu/ml/machine-learning-databases/adult/adult.data', header=None)\n",
    "df.columns = ['age', 'workclass', 'fnlwgt', 'education', 'education-num', 'marital-status', 'occupation', 'relationship', 'race', 'sex', \n",
    "'capital-gain', 'capital-loss', 'hours-per-week', 'native-country', 'salary']"
   ]
  },
  {
   "cell_type": "code",
   "execution_count": 10,
   "metadata": {
    "scrolled": true
   },
   "outputs": [
    {
     "name": "stdout",
     "output_type": "stream",
     "text": [
      "    age          workclass  fnlwgt      education  education-num  \\\n",
      "0    39          State-gov   77516      Bachelors             13   \n",
      "1    50   Self-emp-not-inc   83311      Bachelors             13   \n",
      "2    38            Private  215646        HS-grad              9   \n",
      "3    53            Private  234721           11th              7   \n",
      "4    28            Private  338409      Bachelors             13   \n",
      "5    37            Private  284582        Masters             14   \n",
      "6    49            Private  160187            9th              5   \n",
      "7    52   Self-emp-not-inc  209642        HS-grad              9   \n",
      "8    31            Private   45781        Masters             14   \n",
      "9    42            Private  159449      Bachelors             13   \n",
      "10   37            Private  280464   Some-college             10   \n",
      "11   30          State-gov  141297      Bachelors             13   \n",
      "12   23            Private  122272      Bachelors             13   \n",
      "13   32            Private  205019     Assoc-acdm             12   \n",
      "14   40            Private  121772      Assoc-voc             11   \n",
      "\n",
      "            marital-status          occupation    relationship  \\\n",
      "0            Never-married        Adm-clerical   Not-in-family   \n",
      "1       Married-civ-spouse     Exec-managerial         Husband   \n",
      "2                 Divorced   Handlers-cleaners   Not-in-family   \n",
      "3       Married-civ-spouse   Handlers-cleaners         Husband   \n",
      "4       Married-civ-spouse      Prof-specialty            Wife   \n",
      "5       Married-civ-spouse     Exec-managerial            Wife   \n",
      "6    Married-spouse-absent       Other-service   Not-in-family   \n",
      "7       Married-civ-spouse     Exec-managerial         Husband   \n",
      "8            Never-married      Prof-specialty   Not-in-family   \n",
      "9       Married-civ-spouse     Exec-managerial         Husband   \n",
      "10      Married-civ-spouse     Exec-managerial         Husband   \n",
      "11      Married-civ-spouse      Prof-specialty         Husband   \n",
      "12           Never-married        Adm-clerical       Own-child   \n",
      "13           Never-married               Sales   Not-in-family   \n",
      "14      Married-civ-spouse        Craft-repair         Husband   \n",
      "\n",
      "                   race      sex  capital-gain  capital-loss  hours-per-week  \\\n",
      "0                 White     Male          2174             0              40   \n",
      "1                 White     Male             0             0              13   \n",
      "2                 White     Male             0             0              40   \n",
      "3                 Black     Male             0             0              40   \n",
      "4                 Black   Female             0             0              40   \n",
      "5                 White   Female             0             0              40   \n",
      "6                 Black   Female             0             0              16   \n",
      "7                 White     Male             0             0              45   \n",
      "8                 White   Female         14084             0              50   \n",
      "9                 White     Male          5178             0              40   \n",
      "10                Black     Male             0             0              80   \n",
      "11   Asian-Pac-Islander     Male             0             0              40   \n",
      "12                White   Female             0             0              30   \n",
      "13                Black     Male             0             0              50   \n",
      "14   Asian-Pac-Islander     Male             0             0              40   \n",
      "\n",
      "    native-country  salary  \n",
      "0    United-States   <=50K  \n",
      "1    United-States   <=50K  \n",
      "2    United-States   <=50K  \n",
      "3    United-States   <=50K  \n",
      "4             Cuba   <=50K  \n",
      "5    United-States   <=50K  \n",
      "6          Jamaica   <=50K  \n",
      "7    United-States    >50K  \n",
      "8    United-States    >50K  \n",
      "9    United-States    >50K  \n",
      "10   United-States    >50K  \n",
      "11           India    >50K  \n",
      "12   United-States   <=50K  \n",
      "13   United-States   <=50K  \n",
      "14               ?    >50K  \n"
     ]
    }
   ],
   "source": [
    "print(df[0:15])"
   ]
  },
  {
   "cell_type": "markdown",
   "metadata": {},
   "source": [
    "Каждая строка данного фрейма - это участник социологического опроса, проведённого в Америке "
   ]
  },
  {
   "cell_type": "markdown",
   "metadata": {},
   "source": [
    "#### 7. Индексация с условием\n",
    "Вынесите в новый датафрейм с названием df_work мужчин (признак *sex*) старше 35 (признак *age*)  "
   ]
  },
  {
   "cell_type": "code",
   "execution_count": 13,
   "metadata": {
    "scrolled": true
   },
   "outputs": [],
   "source": [
    "df_work = df[(df['sex'] == ' Male') & (df['age'] > 35)].reset_index()\n",
    "# Метод reset_index() позволяет обновить индексы"
   ]
  },
  {
   "cell_type": "markdown",
   "metadata": {},
   "source": [
    "#### 8. Группировка и меры центральной тенденции \n",
    "Сгруппируйте всех опрошенных по уровню образования (признак *education*) и найдите среднее значение по каждому из числовых (type = int) столбцов в каждой из получившихся групп"
   ]
  },
  {
   "cell_type": "code",
   "execution_count": 24,
   "metadata": {},
   "outputs": [],
   "source": [
    "df_new = df.groupby('education').mean()"
   ]
  },
  {
   "cell_type": "markdown",
   "metadata": {},
   "source": [
    "#### 9. Объединения и слияния\n",
    "Объедините имеющийся датафрейм adult.data с прописанными ниже df_2 (новая колонка) и df_3 (новая строка), затем отсортируйте по признаку *age*"
   ]
  },
  {
   "cell_type": "code",
   "execution_count": 23,
   "metadata": {},
   "outputs": [],
   "source": [
    "df_2 = pd.DataFrame({'random_column': np.random.rand(32561)})\n",
    "df_3 = pd.DataFrame({'age': 40, 'workclass': 'Self-emp-not-inc', 'fnlwgt': 135415, 'education': 'Some-college', 'education-num': 10, 'marital-status': 'Married-civ-spouse', 'occupation': 'Other-service', 'relationship': 'Wife', 'race': 'White', 'sex': 'Female', 'capital-gain': 0, 'capital-loss': 0, 'hours-per-week': 5, 'native-country': 'United-States', 'salary': '<=50K'}, index=[32562])\n",
    "\n",
    "# Присоединение справа нового столбца df_2 \n",
    "df_new = df.join(df_2)\n",
    "# Присоединение снизу нового новой строчки df_3 (с пустым значением поля 'random_column')\n",
    "df_new = df.append(df_3)\n",
    "# Сотритровка по возрастанию и полю 'age'\n",
    "df_new = df.sort_values(by='age')"
   ]
  },
  {
   "cell_type": "markdown",
   "metadata": {},
   "source": [
    "#### 10. Применение функций \n",
    "Замените каждое значение в каждом из числовых (type == int) столбцов на среднеквадратичное отклонение по этому столбцу"
   ]
  },
  {
   "cell_type": "code",
   "execution_count": 22,
   "metadata": {},
   "outputs": [],
   "source": [
    "# Данный цикл перебирает все столбцы \n",
    "# Если тип переменной является int64 считается стандартной отклонение для выброного столбца (column)\n",
    "# И затем этим значением замещаются все элементы в выброном столбце (column) при помощи функции loc\n",
    "for column in df:\n",
    "    if df[column].dtypes == \"int64\":\n",
    "        df.loc[:, df[column].name] = df[df[column].name].std()"
   ]
  },
  {
   "cell_type": "markdown",
   "metadata": {},
   "source": [
    "<center style=\"background-color: #23B04A; color: white; font-size: 16px\"><b>Анализ данных по доходу населения UCI Adult</b></center>"
   ]
  },
  {
   "cell_type": "markdown",
   "metadata": {},
   "source": [
    "### Практические задания:"
   ]
  },
  {
   "cell_type": "markdown",
   "metadata": {},
   "source": [
    "#### Обновляем файл adult.data и решаем задания ниже на нём"
   ]
  },
  {
   "cell_type": "markdown",
   "metadata": {},
   "source": [
    "Уникальные значения признаков в датафрейме:\n",
    "- age: continuous.\n",
    "- workclass: Private, Self-emp-not-inc, Self-emp-inc, Federal-gov, Local-gov, State-gov, Without-pay, Never-worked.\n",
    "- fnlwgt: continuous.\n",
    "- education: Bachelors, Some-college, 11th, HS-grad, Prof-school, Assoc-acdm, Assoc-voc, 9th, 7th-8th, 12th, Masters, 1st-4th, 10th, Doctorate, 5th-6th, Preschool.\n",
    "- education-num: continuous.\n",
    "- marital-status: Married-civ-spouse, Divorced, Never-married, Separated, Widowed, Married-spouse-absent, Married-AF-spouse.\n",
    "- occupation: Tech-support, Craft-repair, Other-service, Sales, Exec-managerial, Prof-specialty, Handlers-cleaners, Machine-op-inspct, Adm-clerical, Farming-fishing, Transport-moving, Priv-house-serv, Protective-serv, Armed-Forces.\n",
    "- relationship: Wife, Own-child, Husband, Not-in-family, Other-relative, Unmarried.\n",
    "- race: White, Asian-Pac-Islander, Amer-Indian-Eskimo, Other, Black.\n",
    "- sex: Female, Male.\n",
    "- capital-gain: continuous.\n",
    "- capital-loss: continuous.\n",
    "- hours-per-week: continuous.\n",
    "- native-country: United-States, Cambodia, England, Puerto-Rico, Canada, Germany, Outlying-US(Guam-USVI-etc), India, Japan, Greece, South, China, Cuba, Iran, Honduras, Philippines, Italy, Poland, Jamaica, Vietnam, Mexico, Portugal, Ireland, France, Dominican-Republic, Laos, Ecuador, Taiwan, Haiti, Columbia, Hungary, Guatemala, Nicaragua, Scotland, Thailand, Yugoslavia, El-Salvador, Trinadad&Tobago, Peru, Hong, Holand-Netherlands.   \n",
    "- salary: >50K,<=50K"
   ]
  },
  {
   "cell_type": "markdown",
   "metadata": {},
   "source": [
    "#### 11. Каков средний возраст (признак *age*) мужчин?"
   ]
  },
  {
   "cell_type": "code",
   "execution_count": 25,
   "metadata": {},
   "outputs": [
    {
     "name": "stdout",
     "output_type": "stream",
     "text": [
      "Average man's age: 39.43354749885268\n"
     ]
    }
   ],
   "source": [
    "# Обновление файла\n",
    "df = pd.read_csv('https://archive.ics.uci.edu/ml/machine-learning-databases/adult/adult.data', header=None)\n",
    "df.columns = ['age', 'workclass', 'fnlwgt', 'education', 'education-num', 'marital-status', 'occupation',\n",
    "              'relationship', 'race', 'sex',\n",
    "              'capital-gain', 'capital-loss', 'hours-per-week', 'native-country', 'salary']\n",
    "\n",
    "# Расчет и вывод среднего возраста для мужчин\n",
    "average_manAge = df[df['sex'] == ' Male']['age'].mean()\n",
    "print(\"Average man's age: \" + str(average_manAge))"
   ]
  },
  {
   "cell_type": "markdown",
   "metadata": {},
   "source": [
    "**12. Каковы средние значения и среднеквадратичные отклонения возраста тех, кто получает более 50K в год (признак *salary*) и тех, кто получает менее 50K в год? **"
   ]
  },
  {
   "cell_type": "code",
   "execution_count": 26,
   "metadata": {},
   "outputs": [
    {
     "name": "stdout",
     "output_type": "stream",
     "text": [
      "Average the men's age with salary less 50K: 37.147012162876784\n",
      "Average the men's age with salary over 50K: 44.62578805163614\n",
      "Standard deviation of the men's age with salary less 50K: 13.856113156844579\n",
      "Standard deviation of the men's age with salary more 50K: 10.485469314658532\n"
     ]
    }
   ],
   "source": [
    "# Средние значение возраста для мужчин с зарплатой меньше 50К\n",
    "average_Age_less = df[(df['sex'] == ' Male') & (df['salary'] == ' <=50K')]['age'].mean()\n",
    "print(\"Average the men's age with salary less 50K: \" + str(average_Age_less))\n",
    "\n",
    "# Средние значение возраста для мужчин с зарплатой больше 50К\n",
    "average_Age_over = df[(df['sex'] == ' Male') & (df['salary'] == ' >50K')]['age'].mean()\n",
    "print(\"Average the men's age with salary over 50K: \" + str(average_Age_over))\n",
    "\n",
    "# Стандартное отклонение возраста для мужчин с зарплатой меньше 50К\n",
    "average_Age_less = df[(df['sex'] == ' Male') & (df['salary'] == ' <=50K')]['age'].std()\n",
    "print(\"Standard deviation of the men's age with salary less 50K: \" + str(average_Age_less))\n",
    "\n",
    "# Стандартное отклонение возраста для мужчин с зарплатой больше 50К\n",
    "average_Age_less = df[(df['sex'] == ' Male') & (df['salary'] == ' >50K')]['age'].std()\n",
    "print(\"Standard deviation of the men's age with salary more 50K: \" + str(average_Age_less))"
   ]
  },
  {
   "cell_type": "markdown",
   "metadata": {},
   "source": [
    "**13. Найдите таким образом максимальный возраст мужчин расы *Amer-Indian-Eskimo*.**"
   ]
  },
  {
   "cell_type": "code",
   "execution_count": 27,
   "metadata": {},
   "outputs": [
    {
     "name": "stdout",
     "output_type": "stream",
     "text": [
      "Max age in the Amer-Indian-Eskimo group: 82\n"
     ]
    }
   ],
   "source": [
    "# Расчет и вывод максимального возраста для для группы Amer-Indian-Eskimo\n",
    "max_Age = df[(df['race'] == ' Amer-Indian-Eskimo')]['age'].max()\n",
    "print(\"Max age in the Amer-Indian-Eskimo group: \" + str(max_Age))"
   ]
  },
  {
   "cell_type": "markdown",
   "metadata": {},
   "source": [
    "**14. Какое максимальное число часов человек работает в неделю (признак *hours-per-week*)? Сколько людей работают такое количество часов и каков среди них процент зарабатывающих много (*salary* >50k)?**"
   ]
  },
  {
   "cell_type": "code",
   "execution_count": 28,
   "metadata": {},
   "outputs": [
    {
     "name": "stdout",
     "output_type": "stream",
     "text": [
      "Max amount of hours per a week: 99\n",
      "Number of people with the max of hours per week: 85\n",
      "Percent of people with the max of hours per week and a big salary: 29%\n"
     ]
    }
   ],
   "source": [
    "# Максимальное количество часов в неделю\n",
    "max_Hours = df['hours-per-week'].max()\n",
    "print(\"Max amount of hours per a week: \" + str(max_Hours))\n",
    "\n",
    "# Количество людей которые работают максимальное количество часов в неделю\n",
    "numberOf_People = len(df[df['hours-per-week'] == max_Hours])\n",
    "print(\"Number of people with the max of hours per week: \" + str(numberOf_People))\n",
    "\n",
    "# Процент людей с большой зарплатой и максимальным количеством часов\n",
    "percent = 100 * len(df[(df['hours-per-week'] == max_Hours) & (df['salary'] == ' >50K')]) / numberOf_People\n",
    "print(\"Percent of people with the max of hours per week and a big salary: \" + str(round(percent))+\"%\")"
   ]
  },
  {
   "cell_type": "markdown",
   "metadata": {},
   "source": [
    "**15. Посчитайте среднее время работы (*hours-per-week*) зарабатывающих мало и много (*salary*) для каждой страны (*native-country*).**"
   ]
  },
  {
   "cell_type": "code",
   "execution_count": 29,
   "metadata": {},
   "outputs": [
    {
     "name": "stdout",
     "output_type": "stream",
     "text": [
      "Среднее количество часов в неделю для людей в разных странах с зарплатой ниже 50K\n",
      "native-country\n",
      " ?                             40.164760\n",
      " Cambodia                      41.416667\n",
      " Canada                        37.914634\n",
      " China                         37.381818\n",
      " Columbia                      38.684211\n",
      " Cuba                          37.985714\n",
      " Dominican-Republic            42.338235\n",
      " Ecuador                       38.041667\n",
      " El-Salvador                   36.030928\n",
      " England                       40.483333\n",
      " France                        41.058824\n",
      " Germany                       39.139785\n",
      " Greece                        41.809524\n",
      " Guatemala                     39.360656\n",
      " Haiti                         36.325000\n",
      " Holand-Netherlands            40.000000\n",
      " Honduras                      34.333333\n",
      " Hong                          39.142857\n",
      " Hungary                       31.300000\n",
      " India                         38.233333\n",
      " Iran                          41.440000\n",
      " Ireland                       40.947368\n",
      " Italy                         39.625000\n",
      " Jamaica                       38.239437\n",
      " Japan                         41.000000\n",
      " Laos                          40.375000\n",
      " Mexico                        40.003279\n",
      " Nicaragua                     36.093750\n",
      " Outlying-US(Guam-USVI-etc)    41.857143\n",
      " Peru                          35.068966\n",
      " Philippines                   38.065693\n",
      " Poland                        38.166667\n",
      " Portugal                      41.939394\n",
      " Puerto-Rico                   38.470588\n",
      " Scotland                      39.444444\n",
      " South                         40.156250\n",
      " Taiwan                        33.774194\n",
      " Thailand                      42.866667\n",
      " Trinadad&Tobago               37.058824\n",
      " United-States                 38.799127\n",
      " Vietnam                       37.193548\n",
      " Yugoslavia                    41.600000\n",
      "Name: hours-per-week, dtype: float64\n",
      "Среднее количество часов в неделю для людей в разных странах с зарплатой выше 50K\n",
      "native-country\n",
      " ?                     45.547945\n",
      " Cambodia              40.000000\n",
      " Canada                45.641026\n",
      " China                 38.900000\n",
      " Columbia              50.000000\n",
      " Cuba                  42.440000\n",
      " Dominican-Republic    47.000000\n",
      " Ecuador               48.750000\n",
      " El-Salvador           45.000000\n",
      " England               44.533333\n",
      " France                50.750000\n",
      " Germany               44.977273\n",
      " Greece                50.625000\n",
      " Guatemala             36.666667\n",
      " Haiti                 42.750000\n",
      " Honduras              60.000000\n",
      " Hong                  45.000000\n",
      " Hungary               50.000000\n",
      " India                 46.475000\n",
      " Iran                  47.500000\n",
      " Ireland               48.000000\n",
      " Italy                 45.400000\n",
      " Jamaica               41.100000\n",
      " Japan                 47.958333\n",
      " Laos                  40.000000\n",
      " Mexico                46.575758\n",
      " Nicaragua             37.500000\n",
      " Peru                  40.000000\n",
      " Philippines           43.032787\n",
      " Poland                39.000000\n",
      " Portugal              41.500000\n",
      " Puerto-Rico           39.416667\n",
      " Scotland              46.666667\n",
      " South                 51.437500\n",
      " Taiwan                46.800000\n",
      " Thailand              58.333333\n",
      " Trinadad&Tobago       40.000000\n",
      " United-States         45.505369\n",
      " Vietnam               39.200000\n",
      " Yugoslavia            49.500000\n",
      "Name: hours-per-week, dtype: float64\n"
     ]
    }
   ],
   "source": [
    "print(\"Среднее количество часов в неделю для людей в разных странах с зарплатой ниже 50K\")\n",
    "average_Hours_less = df[df['salary'] == ' <=50K'].groupby('native-country').mean()['hours-per-week']\n",
    "print(average_Hours_less)\n",
    "\n",
    "print(\"Среднее количество часов в неделю для людей в разных странах с зарплатой выше 50K\")\n",
    "average_Hours_over = df[df['salary'] == ' >50K'].groupby('native-country').mean()['hours-per-week']\n",
    "print(average_Hours_over)"
   ]
  },
  {
   "cell_type": "code",
   "execution_count": null,
   "metadata": {},
   "outputs": [],
   "source": []
  }
 ],
 "metadata": {
  "kernelspec": {
   "display_name": "Python 3",
   "language": "python",
   "name": "python3"
  },
  "language_info": {
   "codemirror_mode": {
    "name": "ipython",
    "version": 3
   },
   "file_extension": ".py",
   "mimetype": "text/x-python",
   "name": "python",
   "nbconvert_exporter": "python",
   "pygments_lexer": "ipython3",
   "version": "3.8.8"
  }
 },
 "nbformat": 4,
 "nbformat_minor": 2
}
